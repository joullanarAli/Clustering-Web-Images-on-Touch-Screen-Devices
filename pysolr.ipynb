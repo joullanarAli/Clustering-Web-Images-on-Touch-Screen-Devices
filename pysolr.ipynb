{
 "cells": [
  {
   "cell_type": "code",
   "execution_count": 2,
   "metadata": {},
   "outputs": [
    {
     "name": "stdout",
     "output_type": "stream",
     "text": [
      "Collecting pysolr\n",
      "  Downloading pysolr-3.9.0.tar.gz (55 kB)\n",
      "     ---------------------------------------- 0.0/55.8 kB ? eta -:--:--\n",
      "     ------- -------------------------------- 10.2/55.8 kB ? eta -:--:--\n",
      "     -------------------- ----------------- 30.7/55.8 kB 330.3 kB/s eta 0:00:01\n",
      "     -------------------- ----------------- 30.7/55.8 kB 330.3 kB/s eta 0:00:01\n",
      "     -------------------- ----------------- 30.7/55.8 kB 330.3 kB/s eta 0:00:01\n",
      "     --------------------------- ---------- 41.0/55.8 kB 131.3 kB/s eta 0:00:01\n",
      "     -------------------------------------- 55.8/55.8 kB 162.2 kB/s eta 0:00:00\n",
      "  Preparing metadata (setup.py): started\n",
      "  Preparing metadata (setup.py): finished with status 'done'\n",
      "Requirement already satisfied: requests>=2.9.1 in d:\\5th_year\\advanced_ai\\reid_env\\lib\\site-packages (from pysolr) (2.28.2)\n",
      "Requirement already satisfied: charset-normalizer<4,>=2 in d:\\5th_year\\advanced_ai\\reid_env\\lib\\site-packages (from requests>=2.9.1->pysolr) (2.0.4)\n",
      "Requirement already satisfied: idna<4,>=2.5 in d:\\5th_year\\advanced_ai\\reid_env\\lib\\site-packages (from requests>=2.9.1->pysolr) (2.10)\n",
      "Requirement already satisfied: urllib3<1.27,>=1.21.1 in d:\\5th_year\\advanced_ai\\reid_env\\lib\\site-packages (from requests>=2.9.1->pysolr) (1.26.16)\n",
      "Requirement already satisfied: certifi>=2017.4.17 in d:\\5th_year\\advanced_ai\\reid_env\\lib\\site-packages (from requests>=2.9.1->pysolr) (2023.7.22)\n",
      "Building wheels for collected packages: pysolr\n",
      "  Building wheel for pysolr (setup.py): started\n",
      "  Building wheel for pysolr (setup.py): finished with status 'done'\n",
      "  Created wheel for pysolr: filename=pysolr-3.9.0-py2.py3-none-any.whl size=19713 sha256=b7eb8de43fececa42ff52b4341df3e4841d4166b83a05585ecd9e0fcd94a4b88\n",
      "  Stored in directory: c:\\users\\asus\\appdata\\local\\pip\\cache\\wheels\\19\\d3\\2f\\18f69b6c70a9566d95cdd031d2bae62232f9e9e552d2d6bcd9\n",
      "Successfully built pysolr\n",
      "Installing collected packages: pysolr\n",
      "Successfully installed pysolr-3.9.0\n",
      "Note: you may need to restart the kernel to use updated packages.\n"
     ]
    }
   ],
   "source": [
    "pip install pysolr"
   ]
  },
  {
   "cell_type": "code",
   "execution_count": 1,
   "metadata": {},
   "outputs": [],
   "source": [
    "import pysolr\n",
    "solr = pysolr.Solr('http://localhost:8983/solr/CSVTest/', timeout=10)"
   ]
  },
  {
   "cell_type": "code",
   "execution_count": 3,
   "metadata": {},
   "outputs": [],
   "source": [
    "results = solr.search('caption:pink')"
   ]
  },
  {
   "cell_type": "code",
   "execution_count": 11,
   "metadata": {},
   "outputs": [
    {
     "name": "stdout",
     "output_type": "stream",
     "text": [
      "The image is '['515702827_be3c6ce857.jpg']'.\n",
      "The image is '['2595713720_30534e8de2.jpg']'.\n",
      "The image is '['2269021076_cefc9af989.jpg']'.\n",
      "The image is '['3226541300_6c81711e8e.jpg']'.\n",
      "The image is '['494329594_6e751372a0.jpg']'.\n",
      "The image is '['525887861_4cc7a1beca.jpg']'.\n",
      "The image is '['358559906_d5f3f584f4.jpg']'.\n",
      "The image is '['2868776402_aef437e493.jpg']'.\n",
      "The image is '['2894229082_ddc395f138.jpg']'.\n",
      "The image is '['2366421102_2d60d53a0e.jpg']'.\n"
     ]
    }
   ],
   "source": [
    "for result in results:\n",
    "    print(\"The image is '{0}'.\".format(result['image']))"
   ]
  },
  {
   "cell_type": "code",
   "execution_count": null,
   "metadata": {},
   "outputs": [],
   "source": []
  }
 ],
 "metadata": {
  "kernelspec": {
   "display_name": "Python 3",
   "language": "python",
   "name": "python3"
  },
  "language_info": {
   "codemirror_mode": {
    "name": "ipython",
    "version": 3
   },
   "file_extension": ".py",
   "mimetype": "text/x-python",
   "name": "python",
   "nbconvert_exporter": "python",
   "pygments_lexer": "ipython3",
   "version": "3.8.17"
  }
 },
 "nbformat": 4,
 "nbformat_minor": 2
}
