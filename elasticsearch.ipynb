{
 "cells": [
  {
   "cell_type": "code",
   "execution_count": 3,
   "id": "f94fdac8",
   "metadata": {},
   "outputs": [
    {
     "name": "stdout",
     "output_type": "stream",
     "text": [
      "Requirement already satisfied: elasticsearch in d:\\5th_year\\advanced_ai\\reid_env\\lib\\site-packages (8.13.2)\n",
      "Requirement already satisfied: elastic-transport<9,>=8.13 in d:\\5th_year\\advanced_ai\\reid_env\\lib\\site-packages (from elasticsearch) (8.13.1)\n",
      "Requirement already satisfied: urllib3<3,>=1.26.2 in d:\\5th_year\\advanced_ai\\reid_env\\lib\\site-packages (from elastic-transport<9,>=8.13->elasticsearch) (1.26.16)\n",
      "Requirement already satisfied: certifi in d:\\5th_year\\advanced_ai\\reid_env\\lib\\site-packages (from elastic-transport<9,>=8.13->elasticsearch) (2023.7.22)\n",
      "Note: you may need to restart the kernel to use updated packages.\n"
     ]
    },
    {
     "name": "stderr",
     "output_type": "stream",
     "text": [
      "WARNING: Ignoring invalid distribution -ip (d:\\5th_year\\advanced_ai\\reid_env\\lib\\site-packages)\n",
      "WARNING: Ignoring invalid distribution -ip (d:\\5th_year\\advanced_ai\\reid_env\\lib\\site-packages)\n"
     ]
    }
   ],
   "source": [
    "pip install elasticsearch"
   ]
  },
  {
   "cell_type": "code",
   "execution_count": 4,
   "id": "365ae0ce",
   "metadata": {},
   "outputs": [],
   "source": [
    "from elasticsearch import Elasticsearch\n",
    "from elasticsearch.helpers import bulk\n",
    "import pandas as pd\n",
    "import csv"
   ]
  },
  {
   "cell_type": "code",
   "execution_count": null,
   "id": "0d354be0",
   "metadata": {},
   "outputs": [],
   "source": [
    "from elasticsearch import Elasticsearch\n",
    "\n",
    "# Create an instance of the Elasticsearch client\n",
    "es = Elasticsearch([{'host': 'localhost', 'port': 9200, 'scheme': 'http'}], http_auth=('elastic', 'elastic'))\n",
    "\n",
    "# Print cluster information to verify the connection\n",
    "print(es.info())"
   ]
  },
  {
   "cell_type": "code",
   "execution_count": 5,
   "id": "2f169d82",
   "metadata": {},
   "outputs": [],
   "source": [
    "import base64\n",
    "import os\n",
    "from elasticsearch import Elasticsearch\n",
    "from elasticsearch.helpers import bulk\n",
    "import json"
   ]
  },
  {
   "cell_type": "code",
   "execution_count": 8,
   "id": "8f2a5e1d",
   "metadata": {},
   "outputs": [],
   "source": [
    "def encode_image(image_path):\n",
    "    try:\n",
    "        with open(image_path, 'rb') as image_file:\n",
    "            return base64.b64encode(image_file.read()).decode('utf-8')\n",
    "    except FileNotFoundError:\n",
    "        print(f\"File not found: {image_path}\")\n",
    "        return None"
   ]
  },
  {
   "cell_type": "code",
   "execution_count": 9,
   "id": "00be03b8",
   "metadata": {},
   "outputs": [
    {
     "name": "stdout",
     "output_type": "stream",
     "text": [
      "File not found: Images\\image\n"
     ]
    },
    {
     "data": {
      "text/plain": [
       "(40456, [])"
      ]
     },
     "execution_count": 9,
     "metadata": {},
     "output_type": "execute_result"
    }
   ],
   "source": [
    "index_name = 'images_index'\n",
    "documents = []\n",
    "\n",
    "with open('captions.csv', 'r') as file:\n",
    "    reader = csv.reader(file)\n",
    "    for row in reader:\n",
    "        image_name, caption = row\n",
    "        image_path = os.path.join('Images', image_name)\n",
    "        image_base64 = encode_image(image_path)\n",
    "        documents.append({\n",
    "            \"_index\": index_name,\n",
    "            \"_source\": {\n",
    "                \"image_name\": image_name,\n",
    "                \"caption\": caption,\n",
    "                \"image_base64\": image_base64\n",
    "            }\n",
    "        })\n",
    "\n",
    "# Create the index if it doesn't exist\n",
    "if not es.indices.exists(index=index_name):\n",
    "    es.indices.create(index=index_name)\n",
    "\n",
    "# Bulk index the documents\n",
    "bulk(es, documents)\n"
   ]
  },
  {
   "cell_type": "code",
   "execution_count": 13,
   "id": "8a125485",
   "metadata": {},
   "outputs": [],
   "source": [
    "from transformers import AutoTokenizer, AutoModel\n",
    "\n",
    "# Specify the path to your saved model directory\n",
    "model_path = \"D:\\\\5th_year\\\\Project\\\\project\\\\models\"\n",
    "\n",
    "# Load the tokenizer from the local directory\n",
    "tokenizer = AutoTokenizer.from_pretrained(model_path)\n",
    "\n",
    "# Load the model from the local directory\n",
    "model = AutoModel.from_pretrained(model_path,from_tf=False, use_safetensors=True)\n"
   ]
  },
  {
   "cell_type": "code",
   "execution_count": 22,
   "id": "084a750b",
   "metadata": {},
   "outputs": [
    {
     "name": "stdout",
     "output_type": "stream",
     "text": [
      "Retrieved image: 2135360514_7dcb9ed796.jpg\n",
      "Retrieved image: 2135360514_7dcb9ed796.jpg\n",
      "Retrieved image: 3578981202_efef47e264.jpg\n",
      "Retrieved image: 3578981202_efef47e264.jpg\n",
      "Retrieved image: 1354318519_2f9baed754.jpg\n",
      "Retrieved image: 1354318519_2f9baed754.jpg\n",
      "Retrieved image: 1332815795_8eea44375e.jpg\n",
      "Retrieved image: 661546153_9d30db6984.jpg\n",
      "Retrieved image: 3732728142_86364a706e.jpg\n",
      "Retrieved image: 1332815795_8eea44375e.jpg\n"
     ]
    }
   ],
   "source": [
    "# from PIL import Image\n",
    "# from io import BytesIO\n",
    "# query = {\n",
    "#     \"query\": {\n",
    "#         \"match\": {\n",
    "#             \"caption\": \"baby\"\n",
    "#         }\n",
    "#     }\n",
    "# }\n",
    "\n",
    "# # Perform the search\n",
    "# response = es.search(index='images_index', body=query)\n",
    "\n",
    "# # Retrieve and display the image\n",
    "# for hit in response['hits']['hits']:\n",
    "#     image_name = hit['_source']['image_name']\n",
    "#     image_base64 = hit['_source']['image_base64']\n",
    "    \n",
    "#     # Decode the base64 string to an image\n",
    "#     image_data = base64.b64decode(image_base64)\n",
    "#     image = Image.open(BytesIO(image_data))\n",
    "    \n",
    "#     # Display the image\n",
    "#     image.show()\n",
    "#     # Optionally, save the image to a file\n",
    "    \n",
    "#     image.save(f\"./retrieved/retrieved_{image_name}\")\n",
    "    \n",
    "#     print(f\"Retrieved image: {image_name}\")"
   ]
  },
  {
   "cell_type": "code",
   "execution_count": 10,
   "id": "5cf304a2",
   "metadata": {},
   "outputs": [
    {
     "name": "stdout",
     "output_type": "stream",
     "text": [
      "Retrieved image: 2552949275_b8cdc450cc.jpg\n",
      "Retrieved image: 2472896179_245e7d142f.jpg\n"
     ]
    }
   ],
   "source": [
    "from PIL import Image\n",
    "from io import BytesIO\n",
    "query = {\n",
    "    \"query\": {\n",
    "        \"match\": {\n",
    "            \"caption\": \"sea\"\n",
    "        }\n",
    "    }\n",
    "}\n",
    "\n",
    "# Perform the search\n",
    "response = es.search(index='images_index', body=query)\n",
    "\n",
    "processed_images = set()\n",
    "\n",
    "# Directory to save the images\n",
    "output_dir = \"./retrieved\"\n",
    "\n",
    "# Ensure the directory exists\n",
    "os.makedirs(output_dir, exist_ok=True)\n",
    "\n",
    "# Retrieve and display the image\n",
    "for hit in response['hits']['hits']:\n",
    "    image_name = hit['_source']['image_name']\n",
    "    image_base64 = hit['_source']['image_base64']\n",
    "    \n",
    "    # Check if the image is already processed\n",
    "    if image_name in processed_images:\n",
    "        continue\n",
    "    \n",
    "    # Decode the base64 string to an image\n",
    "    image_data = base64.b64decode(image_base64)\n",
    "    image = Image.open(BytesIO(image_data))\n",
    "    \n",
    "    # Display the image\n",
    "    image.show()\n",
    "    \n",
    "    # Save the image to a file if not already saved\n",
    "    image_path = os.path.join(output_dir, f\"retrieved_{image_name}\")\n",
    "    if not os.path.exists(image_path):\n",
    "        image.save(image_path)\n",
    "        print(f\"Retrieved image: {image_name}\")\n",
    "    \n",
    "    # Add the image name to the processed set\n",
    "    processed_images.add(image_name)"
   ]
  },
  {
   "cell_type": "code",
   "execution_count": 22,
   "id": "61feab18",
   "metadata": {},
   "outputs": [
    {
     "name": "stdout",
     "output_type": "stream",
     "text": [
      "Retrieved image: 2135360514_7dcb9ed796.jpg\n",
      "Caption: Baby in Santa outfit holding a baby Santa .\n",
      "Retrieved image: 3578981202_efef47e264.jpg\n",
      "Caption: A baby laughs .\n"
     ]
    },
    {
     "name": "stderr",
     "output_type": "stream",
     "text": [
      "C:\\Users\\ASUS\\AppData\\Local\\Temp\\ipykernel_27748\\1784108940.py:5: DeprecationWarning: The 'http_auth' parameter is deprecated. Use 'basic_auth' or 'bearer_auth' parameters instead\n",
      "  es = Elasticsearch([{'host': 'localhost', 'port': 9200, 'scheme': 'http'}], http_auth=('elastic', 'elastic'))\n"
     ]
    }
   ],
   "source": [
    "from elasticsearch import Elasticsearch\n",
    "from PIL import Image\n",
    "from io import BytesIO\n",
    "# Create an Elasticsearch client\n",
    "es = Elasticsearch([{'host': 'localhost', 'port': 9200, 'scheme': 'http'}], http_auth=('elastic', 'elastic'))\n",
    "\n",
    "# Define the index name\n",
    "index_name = 'images_index'\n",
    "\n",
    "# Perform a search query\n",
    "query = {\n",
    "    \"query\": {\n",
    "        \"match\": {\n",
    "            \"caption\": \"baby\"\n",
    "        }\n",
    "    }\n",
    "}\n",
    "\n",
    "# Execute the search query\n",
    "response = es.search(index=index_name, body=query)\n",
    "processed_images = set()\n",
    "\n",
    "output_dir = \"./retrieved\"\n",
    "\n",
    "# Ensure the directory exists\n",
    "os.makedirs(output_dir, exist_ok=True)\n",
    "\n",
    "for hit in response['hits']['hits']:\n",
    "    image_name = hit['_source']['image_name']\n",
    "    image_base64 = hit['_source']['image_base64']\n",
    "    caption = hit['_source']['caption']\n",
    "    # Check if the image is already processed\n",
    "    if image_name in processed_images:\n",
    "        continue\n",
    "    \n",
    "    # Decode the base64 string to an image\n",
    "    image_data = base64.b64decode(image_base64)\n",
    "    image = Image.open(BytesIO(image_data))\n",
    "    \n",
    "    # Display the image\n",
    "    image.show()\n",
    "    \n",
    "  \n",
    "    image_path = os.path.join(output_dir, f\"retrieved_{image_name}\")\n",
    "    if not os.path.exists(image_path):\n",
    "        image.save(image_path)\n",
    "        print(f\"Retrieved image: {image_name}\")\n",
    "        print(f\"Caption: {caption}\")\n",
    "    # Add the image name to the processed set\n",
    "    processed_images.add(image_name)"
   ]
  },
  {
   "cell_type": "code",
   "execution_count": null,
   "id": "0b7bbc8f",
   "metadata": {},
   "outputs": [],
   "source": []
  }
 ],
 "metadata": {
  "kernelspec": {
   "display_name": "Python 3 (ipykernel)",
   "language": "python",
   "name": "python3"
  },
  "language_info": {
   "codemirror_mode": {
    "name": "ipython",
    "version": 3
   },
   "file_extension": ".py",
   "mimetype": "text/x-python",
   "name": "python",
   "nbconvert_exporter": "python",
   "pygments_lexer": "ipython3",
   "version": "3.8.17"
  }
 },
 "nbformat": 4,
 "nbformat_minor": 5
}
